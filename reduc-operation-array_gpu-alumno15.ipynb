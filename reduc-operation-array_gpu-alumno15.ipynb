{
 "cells": [
  {
   "cell_type": "markdown",
   "id": "260952f7-09c4-4293-810f-ea39003b81e4",
   "metadata": {},
   "source": [
    "# 3.3.Python HPC: Paralelismo con GPUs"
   ]
  },
  {
   "cell_type": "markdown",
   "id": "f942d288-be01-42cd-9b84-83529c6769be",
   "metadata": {},
   "source": [
    "## Reduction operation: the sum of the numbers in the range [0, value)"
   ]
  },
  {
   "cell_type": "code",
   "execution_count": 87,
   "id": "496946fa-2a28-4c1d-8a6a-2ee0b8fd8ced",
   "metadata": {},
   "outputs": [
    {
     "name": "stdout",
     "output_type": "stream",
     "text": [
      "Time taken by reduction operation using a function: 5.21 s ± 234 ms per loop (mean ± std. dev. of 2 runs, 1 loop each)\n",
      "And the result of the sum of numbers in the range [0, value) is: 25001562.876640774\n",
      "\n",
      "Time taken by reduction operation using numpy.sum(): 19.7 ms ± 2.94 µs per loop (mean ± std. dev. of 2 runs, 100 loops each)\n",
      "Now, the result using numpy.sum(): 25001562.87663684 \n",
      " \n",
      "Time taken by reduction operation using numpy.ndarray.sum(): 19.7 ms ± 3.55 µs per loop (mean ± std. dev. of 2 runs, 100 loops each)\n",
      "Now, the result using numpy.ndarray.sum(): 25001562.87663684\n"
     ]
    }
   ],
   "source": [
    "import numpy as np\n",
    "import sys\n",
    "\n",
    "def reduc_operation(A):\n",
    "    \"\"\"Compute the sum of the elements of Array A in the range [0, value).\"\"\"\n",
    "    s = 0\n",
    "    for i in range(A.size):\n",
    "        s += A[i]\n",
    "    return s\n",
    "\n",
    "# Secuencial\n",
    "\n",
    "value = int(sys.argv[1])\n",
    "#value = 5*10**7\n",
    "X = np.random.rand(value)\n",
    "\n",
    "# Para imprimir los pimeros valores del array\n",
    "\n",
    "# print(X[0:12])\n",
    "\n",
    "# Utilizando las operaciones mágicas de ipython\n",
    "\n",
    "tiempo = %timeit -r 2 -o -q reduc_operation(X)\n",
    "\n",
    "print(\"Time taken by reduction operation using a function:\", tiempo)\n",
    "\n",
    "\n",
    "print(f\"And the result of the sum of numbers in the range [0, value) is: {reduc_operation(X)}\\n\")\n",
    "\n",
    "\n",
    "# Utilizando numpy.sum()\n",
    "\n",
    "tiempo = %timeit -r 2 -o -q np.sum(X)\n",
    "\n",
    "print(\"Time taken by reduction operation using numpy.sum():\", tiempo)\n",
    "\n",
    "print(\"Now, the result using numpy.sum():\", np.sum(X),\"\\n \")\n",
    "\n",
    "\n",
    "# Utilizando numpy.ndarray.sum()\n",
    "\n",
    "tiempo= %timeit -r 2 -o -q X.sum()\n",
    "\n",
    "print(\"Time taken by reduction operation using numpy.ndarray.sum():\", tiempo)\n",
    "\n",
    "print(\"Now, the result using numpy.ndarray.sum():\", X.sum())\n",
    "\n",
    "\n"
   ]
  },
  {
   "cell_type": "markdown",
   "id": "4c9f1c56-96f5-477d-ad1f-f99263f033d2",
   "metadata": {},
   "source": [
    "### a) Cupy"
   ]
  },
  {
   "cell_type": "code",
   "execution_count": 73,
   "id": "83868939-ba42-482c-ac34-6a6b5bf16d18",
   "metadata": {},
   "outputs": [
    {
     "name": "stdout",
     "output_type": "stream",
     "text": [
      "Time taken by reduction operation using cupy.sum(): 19.3 ms ± 2.03 µs per loop (mean ± std. dev. of 2 runs, 100 loops each)\n",
      "Now, the result using cupy.sum(): 25000124.068478685 \n",
      " \n"
     ]
    }
   ],
   "source": [
    "import cupy as cp\n",
    "\n",
    "# Medir el tiempo de ejecución\n",
    "tiempo = %timeit -r 2 -o -q cp.sum(X)\n",
    "\n",
    "print(\"Time taken by reduction operation using cupy.sum():\", tiempo)\n",
    "print(\"Now, the result using cupy.sum():\", cp.sum(X),\"\\n \")"
   ]
  },
  {
   "cell_type": "markdown",
   "id": "19e8b42c-ec7f-4479-be92-023ac052d1f9",
   "metadata": {},
   "source": [
    "### b) Numba"
   ]
  },
  {
   "cell_type": "code",
   "execution_count": 89,
   "id": "0d3601c7-78c0-4352-87a4-322af727f60d",
   "metadata": {},
   "outputs": [
    {
     "name": "stderr",
     "output_type": "stream",
     "text": [
      "/usr/local/lib64/python3.8/site-packages/numba/cuda/dispatcher.py:536: NumbaPerformanceWarning: Grid size 64 will likely result in GPU under-utilization due to low occupancy.\n",
      "  warn(NumbaPerformanceWarning(msg))\n",
      "/usr/local/lib64/python3.8/site-packages/numba/cuda/dispatcher.py:536: NumbaPerformanceWarning: Grid size 1 will likely result in GPU under-utilization due to low occupancy.\n",
      "  warn(NumbaPerformanceWarning(msg))\n"
     ]
    },
    {
     "name": "stdout",
     "output_type": "stream",
     "text": [
      "Time taken by reduction operation using Numba (optimized GPU sum): 1.77 ms ± 1.26 µs per loop (mean ± std. dev. of 2 runs, 1,000 loops each)\n",
      "Now, the result using Numba: 25001947.034582853\n",
      "\n"
     ]
    }
   ],
   "source": [
    "import numba\n",
    "from numba import cuda\n",
    "from numba.cuda import reduce\n",
    "\n",
    "# Crear el array en la GPU\n",
    "X = np.random.rand(value)\n",
    "X_device = cuda.to_device(X)\n",
    "\n",
    "# Definir la reducción con una función simple de suma\n",
    "@cuda.reduce\n",
    "def sum_reduce(a, b):\n",
    "    return a + b\n",
    "\n",
    "# Ejecutar la reducción en la GPU\n",
    "result = sum_reduce(X_device)\n",
    "\n",
    "# Medir el tiempo de ejecución\n",
    "tiempo = %timeit -r 2 -o -q sum_reduce(X_device)\n",
    "\n",
    "print(\"Time taken by reduction operation using Numba (optimized GPU sum):\", tiempo)\n",
    "print(f\"Now, the result using Numba: {result}\\n\")"
   ]
  },
  {
   "cell_type": "markdown",
   "id": "f4a0abd7-4fec-4dec-921a-fff9d143504f",
   "metadata": {},
   "source": [
    "## Analisis"
   ]
  },
  {
   "cell_type": "markdown",
   "id": "b36e786c-6186-41a6-aa3f-44616611f535",
   "metadata": {},
   "source": [
    "Se puede observar que el desempeño mejora considerablemente al utilizar las librerias cupy y numba. Es especialmente notable como el decorador cuda.reduce combinado con cuda.to_device(X) para pasar el array a la GPU permite optimizar tanto la funcion de reduccion."
   ]
  }
 ],
 "metadata": {
  "kernelspec": {
   "display_name": "Python 3 (ipykernel)",
   "language": "python",
   "name": "python3"
  },
  "language_info": {
   "codemirror_mode": {
    "name": "ipython",
    "version": 3
   },
   "file_extension": ".py",
   "mimetype": "text/x-python",
   "name": "python",
   "nbconvert_exporter": "python",
   "pygments_lexer": "ipython3",
   "version": "3.8.17"
  }
 },
 "nbformat": 4,
 "nbformat_minor": 5
}
