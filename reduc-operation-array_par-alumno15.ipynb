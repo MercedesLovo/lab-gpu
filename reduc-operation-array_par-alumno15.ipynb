{
 "cells": [
  {
   "cell_type": "markdown",
   "id": "f942d288-be01-42cd-9b84-83529c6769be",
   "metadata": {},
   "source": [
    "## Reduction operation: the sum of the numbers in the range [0, value)"
   ]
  },
  {
   "cell_type": "code",
   "execution_count": 35,
   "id": "496946fa-2a28-4c1d-8a6a-2ee0b8fd8ced",
   "metadata": {},
   "outputs": [
    {
     "name": "stdout",
     "output_type": "stream",
     "text": [
      "Time taken by reduction operation using a function: 4.63 s ± 65 ms per loop (mean ± std. dev. of 2 runs, 1 loop each)\n",
      "And the result of the sum of numbers in the range [0, 5000000) is: 2499403.553809636\n",
      "\n",
      "Time taken by reduction operation using numpy.sum(): 6.13 ms ± 12.1 µs per loop (mean ± std. dev. of 2 runs, 100 loops each)\n",
      "Now, the result using numpy.sum(): 2499403.553809346 \n",
      " \n",
      "Time taken by reduction operation using numpy.ndarray.sum(): 6.07 ms ± 11.3 µs per loop (mean ± std. dev. of 2 runs, 100 loops each)\n",
      "Now, the result using numpy.ndarray.sum(): 2499403.553809346\n"
     ]
    }
   ],
   "source": [
    "import numpy as np\n",
    "import sys\n",
    "\n",
    "def reduc_operation(A):\n",
    "    \"\"\"Compute the sum of the elements of Array A in the range [0, value).\"\"\"\n",
    "    s = 0\n",
    "    for i in range(A.size):\n",
    "        s += A[i]\n",
    "    return s\n",
    "\n",
    "# Secuencial\n",
    "\n",
    "value = int(sys.argv[1])\n",
    "X = np.random.rand(value)\n",
    "\n",
    "# Para imprimir los pimeros valores del array\n",
    "\n",
    "# print(X[0:12])\n",
    "\n",
    "# Utilizando las operaciones mágicas de ipython\n",
    "\n",
    "tiempo = %timeit -r 2 -o -q reduc_operation(X)\n",
    "\n",
    "print(\"Time taken by reduction operation using a function:\", tiempo)\n",
    "print(f\"And the result of the sum of numbers in the range [0, {value}) is: {reduc_operation(X)}\\n\")\n",
    "\n",
    "\n",
    "# Utilizando numpy.sum()\n",
    "\n",
    "tiempo = %timeit -r 2 -o -q np.sum(X)\n",
    "\n",
    "print(\"Time taken by reduction operation using numpy.sum():\", tiempo)\n",
    "print(\"Now, the result using numpy.sum():\", np.sum(X),\"\\n \")\n",
    "\n",
    "# Utilizando numpy.ndarray.sum()\n",
    "\n",
    "tiempo= %timeit -r 2 -o -q X.sum()\n",
    "\n",
    "print(\"Time taken by reduction operation using numpy.ndarray.sum():\", tiempo)\n",
    "print(\"Now, the result using numpy.ndarray.sum():\", X.sum())"
   ]
  },
  {
   "cell_type": "code",
   "execution_count": 36,
   "id": "60717b45-9c89-4189-8a99-2dcbde7d39de",
   "metadata": {},
   "outputs": [
    {
     "name": "stdout",
     "output_type": "stream",
     "text": [
      "One processes result: [2499403.553809636], Time: 5.0495 seconds\n",
      "Two processes result: [1249608.9141718114, 1249794.6396376495], Time: 2.6743 seconds\n",
      "Four processes result: [625047.1337607821, 624561.780410973, 625104.2037666076, 624690.4358710266], Time: 1.4837 seconds\n"
     ]
    }
   ],
   "source": [
    "\n",
    "from multiprocessing import Pool\n",
    "import time\n",
    "\n",
    "# Usar Pool para 1 proceso\n",
    "\n",
    "start_time = time.time()\n",
    "with Pool(1) as p:\n",
    "    result_one = p.map(reduc_operation, [X])\n",
    "print(f\"Using multiprocessing Pool(1), result: {result_one}, Time: {time.time() - start_time:.4f} seconds\")\n",
    "\n",
    "# Usar Pool para 2 procesos\n",
    "half = int(value / 2)\n",
    "data_parts_2 = [X[0:half], X[half:value]]\n",
    "\n",
    "start_time = time.time()\n",
    "with Pool(2) as p:\n",
    "    result_two = p.map(reduc_operation, data_parts_2)\n",
    "print(f\"Using multiprocessing Pool(2), result: {result_two}, Time: {time.time() - start_time:.4f} seconds\")\n",
    "\n",
    "# Usar Pool para 4 procesos\n",
    "quarter = int(value / 4)\n",
    "data_parts_4 = [X[0:quarter], X[quarter:quarter*2], X[quarter*2:quarter*3], X[quarter*3:value]]\n",
    "\n",
    "start_time = time.time()\n",
    "with Pool(4) as p:\n",
    "    result_four = p.map(reduc_operation, data_parts_4)\n",
    "print(f\"Using multiprocessing Pool(4): {result_four}, Time: {time.time() - start_time:.4f} seconds\")"
   ]
  },
  {
   "cell_type": "code",
   "execution_count": 37,
   "id": "e101e471-dd46-49ca-88eb-176856c66d19",
   "metadata": {},
   "outputs": [
    {
     "name": "stdout",
     "output_type": "stream",
     "text": [
      "Time taken by reduction operation using a function: 19.7 ms ± 51.1 µs per loop (mean ± std. dev. of 2 runs, 1 loop each)\n",
      "Time taken by reduction operation using a function: 5.07 ms ± 482 µs per loop (mean ± std. dev. of 2 runs, 1 loop each)\n"
     ]
    }
   ],
   "source": [
    "from numba import njit, prange\n",
    "\n",
    "@njit\n",
    "def reduc_operation_njit(A):\n",
    "    \"\"\"Compute the sum of the elements of Array A in the range [0, value).\"\"\"\n",
    "    s = 0\n",
    "    for i in range(A.size):\n",
    "        s += A[i]\n",
    "    return s\n",
    "\n",
    "\n",
    "@njit(parallel = True)\n",
    "def reduc_operation_njitp(A):\n",
    "    \"\"\"Compute the sum of the elements of Array A in the range [0, value).\"\"\"\n",
    "    s = 0\n",
    "    for i in prange(A.size):\n",
    "        s += A[i]\n",
    "    return s\n",
    "\n",
    "tiempo = %timeit -r 2 -o -q reduc_operation_njit(X)\n",
    "print(\"Time taken by reduction operation using reduc_operation_njit(A):\", tiempo)\n",
    "\n",
    "tiempo = %timeit -r 2 -o -q reduc_operation_njitp(X)\n",
    "print(\"Time taken by reduction operation using reduc_operation_njitp(A):\", tiempo)"
   ]
  },
  {
   "cell_type": "markdown",
   "id": "92ab24f3-7779-40d5-838f-26f778be852f",
   "metadata": {},
   "source": [
    "Luego de ejecutar el codigo con diferentes values se puede notar que para values menores de 10^6 el sobrecoste(overhead) de ejecutar en varios procesadores es significativo, por lo que a mayor numero de procesadores se ve un deterioro del rendimiento en lugar de una ganancia, pero para values mayores o iguales a 10^6 se nota como los tiempos de ejecucion se dividen aproximadamente entre el numero de procesos."
   ]
  }
 ],
 "metadata": {
  "kernelspec": {
   "display_name": "Python 3 (ipykernel)",
   "language": "python",
   "name": "python3"
  },
  "language_info": {
   "codemirror_mode": {
    "name": "ipython",
    "version": 3
   },
   "file_extension": ".py",
   "mimetype": "text/x-python",
   "name": "python",
   "nbconvert_exporter": "python",
   "pygments_lexer": "ipython3",
   "version": "3.10.9"
  }
 },
 "nbformat": 4,
 "nbformat_minor": 5
}
